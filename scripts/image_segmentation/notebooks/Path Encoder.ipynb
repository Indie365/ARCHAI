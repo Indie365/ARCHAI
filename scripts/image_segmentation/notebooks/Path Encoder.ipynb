{
 "cells": [
  {
   "cell_type": "code",
   "execution_count": 95,
   "id": "73ea2f56",
   "metadata": {},
   "outputs": [],
   "source": [
    "from botorch.models.gpytorch import GPyTorchModel\n",
    "from botorch.utils.containers import TrainingData\n",
    "from gpytorch.distributions import MultivariateNormal\n",
    "from gpytorch.kernels import RBFKernel, ScaleKernel\n",
    "from gpytorch.likelihoods import GaussianLikelihood\n",
    "from gpytorch.means import ConstantMean\n",
    "from gpytorch.models import ExactGP\n",
    "\n",
    "from tqdm import tqdm"
   ]
  },
  {
   "cell_type": "markdown",
   "id": "0a375aa8",
   "metadata": {},
   "source": [
    "----"
   ]
  },
  {
   "cell_type": "code",
   "execution_count": 135,
   "id": "308713ed",
   "metadata": {},
   "outputs": [],
   "source": [
    "from archai.algos.evolution_pareto_image_seg.remote_benchmark import RemoteAzureBenchmark\n",
    "from archai.algos.evolution_pareto_image_seg.model import SegmentationNasModel\n",
    "from archai.algos.evolution_pareto_image_seg.segmentation_trainer import LightningModelWrapper\n",
    "from archai.search_spaces.discrete_search_spaces.segmentation_search_spaces.discrete_search_space_segmentation import DiscreteSearchSpaceSegmentation\n",
    "from archai.search_spaces.discrete_search_spaces.segmentation_search_spaces.discrete_search_space_segmentation import ArchWithMetaData\n",
    "from archai.search_spaces.discrete_search_spaces.utils import get_graph_paths, get_graph_ngrams"
   ]
  },
  {
   "cell_type": "code",
   "execution_count": 97,
   "id": "142b170b",
   "metadata": {},
   "outputs": [],
   "source": [
    "random_model = DiscreteSearchSpaceSegmentation('f', min_layers=3, max_layers=16)"
   ]
  },
  {
   "cell_type": "code",
   "execution_count": 98,
   "id": "45f8d789",
   "metadata": {},
   "outputs": [
    {
     "name": "stderr",
     "output_type": "stream",
     "text": [
      "100%|████████████████████████████████████████████████████████████████████████████████████████████████████████████| 50/50 [06:25<00:00,  7.71s/it]"
     ]
    },
    {
     "name": "stdout",
     "output_type": "stream",
     "text": [
      "CPU times: user 2h 18min 58s, sys: 16.7 s, total: 2h 19min 15s\n",
      "Wall time: 6min 25s\n"
     ]
    },
    {
     "name": "stderr",
     "output_type": "stream",
     "text": [
      "\n"
     ]
    }
   ],
   "source": [
    "%%time\n",
    "model_list = [random_model.random_sample() for _ in tqdm(range(50))]"
   ]
  },
  {
   "cell_type": "code",
   "execution_count": 183,
   "id": "eba435ba",
   "metadata": {},
   "outputs": [],
   "source": [
    "import numpy as np\n",
    "import torch\n",
    "from copy import deepcopy\n",
    "from typing import List, Tuple, Dict\n",
    "\n",
    "\n",
    "def _get_graph_with_channels(m: ArchWithMetaData):\n",
    "    g = deepcopy(m.arch.graph)\n",
    "    ch_per_scale = m.arch.channels_per_scale\n",
    "    \n",
    "    scales = [1, 2, 4, 8, 16, 32]\n",
    "\n",
    "    ch_per_scale = {\n",
    "        scale: ch_per_scale['base_channels'] +\\\n",
    "               (scale_i)*ch_per_scale['delta_channels']\n",
    "        for scale_i, scale in enumerate(scales)\n",
    "    }\n",
    "    \n",
    "    for node_attrs in g.values():\n",
    "        node_attrs['channels'] = ch_per_scale[node_attrs['scale']]\n",
    "    \n",
    "    return g\n",
    "\n",
    "\n",
    "class PathEncoder():\n",
    "    def __init__(self, node_vars: List, path_length: int = -1):\n",
    "        self.vocab = None\n",
    "        self.node_vars = node_vars\n",
    "        self.path_length = path_length\n",
    "        self.should_calc_channels = 'channels' in node_vars\n",
    "            \n",
    "    \n",
    "    def fit(self, model_list: List[ArchWithMetaData]) -> None:\n",
    "        paths = {\n",
    "            p for m in model_list for p in self.encode(m)\n",
    "        }\n",
    "        \n",
    "        self.vocab = list(paths)\n",
    "        self.path2idx = {path: i for i, path in enumerate(self.vocab)}\n",
    "    \n",
    "    def transform(self, model_list: List[ArchWithMetaData]) -> torch.Tensor:\n",
    "        if not self.vocab:\n",
    "            raise ValueException('PathEncoder is not fitted.')\n",
    "        \n",
    "        arr = np.zeros((len(model_list), len(self.vocab)))\n",
    "        \n",
    "        for model_idx, m in enumerate(model_list):\n",
    "            idxs = np.array([\n",
    "                self.path2idx[p] for p in self.encode(m)\n",
    "                if p in self.path2idx\n",
    "            ])\n",
    "            if idxs.any():\n",
    "                arr[model_idx][idxs] = 1\n",
    "            \n",
    "        return arr\n",
    "\n",
    "    def fit_transform(self, x: List[ArchWithMetaData]) -> torch.Tensor:\n",
    "        self.fit(x)\n",
    "        return self.transform(x)\n",
    "    \n",
    "    def encode(self, m: ArchWithMetaData) -> List[Tuple[Tuple]]:\n",
    "        g = _get_graph_with_channels(m) if self.should_calc_channels else m.arch.graph\n",
    "            \n",
    "        if self.path_length == -1:\n",
    "            return get_graph_paths(g, node_vars=self.node_vars)\n",
    "        \n",
    "        return get_graph_ngrams(g, node_vars=self.node_vars, n=self.path_length)"
   ]
  },
  {
   "cell_type": "code",
   "execution_count": 184,
   "id": "dc673f90",
   "metadata": {},
   "outputs": [
    {
     "data": {
      "text/plain": [
       "{'base_channels': 48,\n",
       " 'delta_channels': 24,\n",
       " 1: 48,\n",
       " 2: 72,\n",
       " 4: 96,\n",
       " 8: 120,\n",
       " 16: 144}"
      ]
     },
     "execution_count": 184,
     "metadata": {},
     "output_type": "execute_result"
    }
   ],
   "source": [
    "model_list[0].arch.channels_per_scale"
   ]
  },
  {
   "cell_type": "code",
   "execution_count": 353,
   "id": "b711874e",
   "metadata": {},
   "outputs": [
    {
     "name": "stdout",
     "output_type": "stream",
     "text": [
      "CPU times: user 34 ms, sys: 37 µs, total: 34 ms\n",
      "Wall time: 32.9 ms\n"
     ]
    }
   ],
   "source": [
    "%%time\n",
    "encoder1 = PathEncoder(['scale'], path_length=-1)\n",
    "encoder1.fit(model_list)\n",
    "\n",
    "encoder2 = PathEncoder(['op'], path_length=-1)\n",
    "encoder2.fit(model_list)"
   ]
  },
  {
   "cell_type": "code",
   "execution_count": 354,
   "id": "da367b8c",
   "metadata": {},
   "outputs": [],
   "source": [
    "X = np.concatenate([encoder1.transform(model_list), encoder2.transform(model_list)], axis=1)"
   ]
  },
  {
   "cell_type": "code",
   "execution_count": 355,
   "id": "534ef8e4",
   "metadata": {},
   "outputs": [],
   "source": [
    "import matplotlib.pyplot as plt"
   ]
  },
  {
   "cell_type": "code",
   "execution_count": 356,
   "id": "4e3b4bfb",
   "metadata": {},
   "outputs": [
    {
     "data": {
      "text/plain": [
       "<matplotlib.image.AxesImage at 0x7f27e2021400>"
      ]
     },
     "execution_count": 356,
     "metadata": {},
     "output_type": "execute_result"
    },
    {
     "data": {
      "image/png": "[encoded data removed]",
      "text/plain": [
       "<Figure size 432x288 with 1 Axes>"
      ]
     },
     "metadata": {
      "needs_background": "light"
     },
     "output_type": "display_data"
    }
   ],
   "source": [
    "sim_matrix = (X @ X.T)/np.diag(X@X.T)\n",
    "plt.imshow(sim_matrix)"
   ]
  },
  {
   "cell_type": "code",
   "execution_count": 357,
   "id": "a3a96271",
   "metadata": {},
   "outputs": [],
   "source": [
    "pair_array = np.array([\n",
    "    [i, j, sim_matrix[i,j]]\n",
    "    for i in range(sim_matrix.shape[0])\n",
    "    for j in range(sim_matrix.shape[1])\n",
    "    if sim_matrix[i, j] != 1\n",
    "])"
   ]
  },
  {
   "cell_type": "code",
   "execution_count": 358,
   "id": "cab5dc10",
   "metadata": {},
   "outputs": [
    {
     "data": {
      "text/plain": [
       "array([1933, 1563,  797, 2397,  551, 2246, 2252,  554,  795, 2222])"
      ]
     },
     "execution_count": 358,
     "metadata": {},
     "output_type": "execute_result"
    }
   ],
   "source": [
    "pair_array[:, 2].argsort()[-10:]"
   ]
  },
  {
   "cell_type": "code",
   "execution_count": 366,
   "id": "669771e1",
   "metadata": {},
   "outputs": [
    {
     "data": {
      "text/plain": [
       "array([11. , 16. ,  0.5])"
      ]
     },
     "execution_count": 366,
     "metadata": {},
     "output_type": "execute_result"
    }
   ],
   "source": [
    "pair_array[554]"
   ]
  },
  {
   "cell_type": "code",
   "execution_count": 368,
   "id": "700e0fb5",
   "metadata": {},
   "outputs": [
    {
     "name": "stderr",
     "output_type": "stream",
     "text": [
      "Warning: some nodes with margin (3.20,3.20) touch - falling back to straight line edges\n"
     ]
    },
    {
     "data": {
      "image/svg+xml": [
       "<?xml version=\"1.0\" encoding=\"UTF-8\" standalone=\"no\"?>\n",
       "<!DOCTYPE svg PUBLIC \"-//W3C//DTD SVG 1.1//EN\"\n",
       " \"http://www.w3.org/Graphics/SVG/1.1/DTD/svg11.dtd\">\n",
       "<!-- Generated by graphviz version 2.43.0 (0)\n",
       " -->\n",
       "<!-- Title: architecture Pages: 1 -->\n",
       "<svg width=\"764pt\" height=\"116pt\"\n",
       " viewBox=\"0.00 0.00 763.78 116.00\" xmlns=\"http://www.w3.org/2000/svg\" xmlns:xlink=\"http://www.w3.org/1999/xlink\">\n",
       "<g id=\"graph0\" class=\"graph\" transform=\"scale(1 1) rotate(0) translate(4 112)\">\n",
       "<title>architecture</title>\n",
       "<polygon fill=\"white\" stroke=\"transparent\" points=\"-4,4 -4,-112 759.78,-112 759.78,4 -4,4\"/>\n",
       "<!-- input -->\n",
       "<g id=\"node1\" class=\"node\">\n",
       "<title>input</title>\n",
       "<ellipse fill=\"none\" stroke=\"black\" cx=\"299.84\" cy=\"-18\" rx=\"79.09\" ry=\"18\"/>\n",
       "<text text-anchor=\"middle\" x=\"299.84\" y=\"-14.3\" font-family=\"Times,serif\" font-size=\"14.00\">mbconv5x5_e1</text>\n",
       "</g>\n",
       "<!-- layer_0 -->\n",
       "<g id=\"node2\" class=\"node\">\n",
       "<title>layer_0</title>\n",
       "<ellipse fill=\"none\" stroke=\"black\" cx=\"407.84\" cy=\"-18\" rx=\"49.29\" ry=\"18\"/>\n",
       "<text text-anchor=\"middle\" x=\"407.84\" y=\"-14.3\" font-family=\"Times,serif\" font-size=\"14.00\">conv7x7</text>\n",
       "</g>\n",
       "<!-- input&#45;&gt;layer_0 -->\n",
       "<g id=\"edge1\" class=\"edge\">\n",
       "<title>input&#45;&gt;layer_0</title>\n",
       "<path fill=\"none\" stroke=\"black\" d=\"M379.18,-18C379.25,-18 379.31,-18 379.38,-18\"/>\n",
       "<polygon fill=\"black\" stroke=\"black\" points=\"369.57,-21.51 379.57,-18 369.56,-14.51 369.57,-21.51\"/>\n",
       "</g>\n",
       "<!-- layer_1 -->\n",
       "<g id=\"node3\" class=\"node\">\n",
       "<title>layer_1</title>\n",
       "<ellipse fill=\"none\" stroke=\"black\" cx=\"515.84\" cy=\"-18\" rx=\"79.09\" ry=\"18\"/>\n",
       "<text text-anchor=\"middle\" x=\"515.84\" y=\"-14.3\" font-family=\"Times,serif\" font-size=\"14.00\">mbconv3x3_e2</text>\n",
       "</g>\n",
       "<!-- input&#45;&gt;layer_1 -->\n",
       "<g id=\"edge3\" class=\"edge\">\n",
       "<title>input&#45;&gt;layer_1</title>\n",
       "<path fill=\"none\" stroke=\"black\" d=\"M379.35,-18C394.65,-18 410.76,-18 426.35,-18\"/>\n",
       "<polygon fill=\"black\" stroke=\"black\" points=\"426.5,-21.5 436.5,-18 426.5,-14.5 426.5,-21.5\"/>\n",
       "</g>\n",
       "<!-- layer_0&#45;&gt;layer_1 -->\n",
       "<g id=\"edge2\" class=\"edge\">\n",
       "<title>layer_0&#45;&gt;layer_1</title>\n",
       "<path fill=\"none\" stroke=\"black\" d=\"M457.42,-18C457.47,-18 457.53,-18 457.58,-18\"/>\n",
       "<polygon fill=\"black\" stroke=\"black\" points=\"447.75,-21.51 457.75,-18 447.75,-14.51 447.75,-21.51\"/>\n",
       "</g>\n",
       "<!-- output -->\n",
       "<g id=\"node4\" class=\"node\">\n",
       "<title>output</title>\n",
       "<ellipse fill=\"none\" stroke=\"black\" cx=\"623.84\" cy=\"-18\" rx=\"41.69\" ry=\"18\"/>\n",
       "<text text-anchor=\"middle\" x=\"623.84\" y=\"-14.3\" font-family=\"Times,serif\" font-size=\"14.00\">output</text>\n",
       "</g>\n",
       "<!-- layer_1&#45;&gt;output -->\n",
       "<g id=\"edge4\" class=\"edge\">\n",
       "<title>layer_1&#45;&gt;output</title>\n",
       "<path fill=\"none\" stroke=\"black\" d=\"M595.18,-18C595.25,-18 595.31,-18 595.38,-18\"/>\n",
       "<polygon fill=\"black\" stroke=\"black\" points=\"585.57,-21.51 595.57,-18 585.56,-14.51 585.57,-21.51\"/>\n",
       "</g>\n",
       "<!-- upsample -->\n",
       "<g id=\"node6\" class=\"node\">\n",
       "<title>upsample</title>\n",
       "<ellipse fill=\"none\" stroke=\"black\" cx=\"623.84\" cy=\"-90\" rx=\"131.88\" ry=\"18\"/>\n",
       "<text text-anchor=\"middle\" x=\"623.84\" y=\"-86.3\" font-family=\"Times,serif\" font-size=\"14.00\">Upsample + 3 x Conv 3x3</text>\n",
       "</g>\n",
       "<!-- output&#45;&gt;upsample -->\n",
       "<g id=\"edge5\" class=\"edge\">\n",
       "<title>output&#45;&gt;upsample</title>\n",
       "<path fill=\"none\" stroke=\"black\" d=\"M623.84,-36.17C623.84,-43.87 623.84,-53.03 623.84,-61.58\"/>\n",
       "<polygon fill=\"black\" stroke=\"black\" points=\"620.34,-61.59 623.84,-71.59 627.34,-61.59 620.34,-61.59\"/>\n",
       "</g>\n",
       "<!-- scale&#45;1 -->\n",
       "<g id=\"node5\" class=\"node\">\n",
       "<title>scale&#45;1</title>\n",
       "<ellipse fill=\"none\" stroke=\"black\" cx=\"83.84\" cy=\"-18\" rx=\"83.69\" ry=\"18\"/>\n",
       "<text text-anchor=\"middle\" x=\"83.84\" y=\"-14.3\" font-family=\"Times,serif\" font-size=\"14.00\">scale=2, ch=24</text>\n",
       "</g>\n",
       "</g>\n",
       "</svg>\n"
      ],
      "text/plain": [
       "<graphviz.graphs.Digraph at 0x7f27e4c24df0>"
      ]
     },
     "execution_count": 368,
     "metadata": {},
     "output_type": "execute_result"
    }
   ],
   "source": [
    "model_list[11].arch.view()"
   ]
  },
  {
   "cell_type": "code",
   "execution_count": 369,
   "id": "a37a1621",
   "metadata": {},
   "outputs": [
    {
     "name": "stderr",
     "output_type": "stream",
     "text": [
      "Warning: some nodes with margin (3.20,3.20) touch - falling back to straight line edges\n"
     ]
    },
    {
     "data": {
      "image/svg+xml": [
       "<?xml version=\"1.0\" encoding=\"UTF-8\" standalone=\"no\"?>\n",
       "<!DOCTYPE svg PUBLIC \"-//W3C//DTD SVG 1.1//EN\"\n",
       " \"http://www.w3.org/Graphics/SVG/1.1/DTD/svg11.dtd\">\n",
       "<!-- Generated by graphviz version 2.43.0 (0)\n",
       " -->\n",
       "<!-- Title: architecture Pages: 1 -->\n",
       "<svg width=\"764pt\" height=\"116pt\"\n",
       " viewBox=\"0.00 0.00 763.78 116.00\" xmlns=\"http://www.w3.org/2000/svg\" xmlns:xlink=\"http://www.w3.org/1999/xlink\">\n",
       "<g id=\"graph0\" class=\"graph\" transform=\"scale(1 1) rotate(0) translate(4 112)\">\n",
       "<title>architecture</title>\n",
       "<polygon fill=\"white\" stroke=\"transparent\" points=\"-4,4 -4,-112 759.78,-112 759.78,4 -4,4\"/>\n",
       "<!-- input -->\n",
       "<g id=\"node1\" class=\"node\">\n",
       "<title>input</title>\n",
       "<ellipse fill=\"none\" stroke=\"black\" cx=\"299.84\" cy=\"-18\" rx=\"79.09\" ry=\"18\"/>\n",
       "<text text-anchor=\"middle\" x=\"299.84\" y=\"-14.3\" font-family=\"Times,serif\" font-size=\"14.00\">mbconv3x3_e1</text>\n",
       "</g>\n",
       "<!-- layer_0 -->\n",
       "<g id=\"node2\" class=\"node\">\n",
       "<title>layer_0</title>\n",
       "<ellipse fill=\"none\" stroke=\"black\" cx=\"407.84\" cy=\"-18\" rx=\"49.29\" ry=\"18\"/>\n",
       "<text text-anchor=\"middle\" x=\"407.84\" y=\"-14.3\" font-family=\"Times,serif\" font-size=\"14.00\">conv3x3</text>\n",
       "</g>\n",
       "<!-- input&#45;&gt;layer_0 -->\n",
       "<g id=\"edge1\" class=\"edge\">\n",
       "<title>input&#45;&gt;layer_0</title>\n",
       "<path fill=\"none\" stroke=\"black\" d=\"M379.18,-18C379.25,-18 379.31,-18 379.38,-18\"/>\n",
       "<polygon fill=\"black\" stroke=\"black\" points=\"369.57,-21.51 379.57,-18 369.56,-14.51 369.57,-21.51\"/>\n",
       "</g>\n",
       "<!-- layer_1 -->\n",
       "<g id=\"node3\" class=\"node\">\n",
       "<title>layer_1</title>\n",
       "<ellipse fill=\"none\" stroke=\"black\" cx=\"515.84\" cy=\"-18\" rx=\"49.29\" ry=\"18\"/>\n",
       "<text text-anchor=\"middle\" x=\"515.84\" y=\"-14.3\" font-family=\"Times,serif\" font-size=\"14.00\">conv7x7</text>\n",
       "</g>\n",
       "<!-- input&#45;&gt;layer_1 -->\n",
       "<g id=\"edge3\" class=\"edge\">\n",
       "<title>input&#45;&gt;layer_1</title>\n",
       "<path fill=\"none\" stroke=\"black\" d=\"M379.35,-18C404.71,-18 432.33,-18 456.04,-18\"/>\n",
       "<polygon fill=\"black\" stroke=\"black\" points=\"456.29,-21.5 466.29,-18 456.29,-14.5 456.29,-21.5\"/>\n",
       "</g>\n",
       "<!-- layer_0&#45;&gt;layer_1 -->\n",
       "<g id=\"edge2\" class=\"edge\">\n",
       "<title>layer_0&#45;&gt;layer_1</title>\n",
       "<path fill=\"none\" stroke=\"black\" d=\"M457.42,-18C457.51,-18 457.6,-18 457.7,-18\"/>\n",
       "<polygon fill=\"black\" stroke=\"black\" points=\"456.42,-21.5 466.42,-18 456.42,-14.5 456.42,-21.5\"/>\n",
       "</g>\n",
       "<!-- output -->\n",
       "<g id=\"node4\" class=\"node\">\n",
       "<title>output</title>\n",
       "<ellipse fill=\"none\" stroke=\"black\" cx=\"623.84\" cy=\"-18\" rx=\"41.69\" ry=\"18\"/>\n",
       "<text text-anchor=\"middle\" x=\"623.84\" y=\"-14.3\" font-family=\"Times,serif\" font-size=\"14.00\">output</text>\n",
       "</g>\n",
       "<!-- layer_1&#45;&gt;output -->\n",
       "<g id=\"edge4\" class=\"edge\">\n",
       "<title>layer_1&#45;&gt;output</title>\n",
       "<path fill=\"none\" stroke=\"black\" d=\"M565.42,-18C567.58,-18 569.76,-18 571.93,-18\"/>\n",
       "<polygon fill=\"black\" stroke=\"black\" points=\"572,-21.5 582,-18 572,-14.5 572,-21.5\"/>\n",
       "</g>\n",
       "<!-- upsample -->\n",
       "<g id=\"node6\" class=\"node\">\n",
       "<title>upsample</title>\n",
       "<ellipse fill=\"none\" stroke=\"black\" cx=\"623.84\" cy=\"-90\" rx=\"131.88\" ry=\"18\"/>\n",
       "<text text-anchor=\"middle\" x=\"623.84\" y=\"-86.3\" font-family=\"Times,serif\" font-size=\"14.00\">Upsample + 3 x Conv 3x3</text>\n",
       "</g>\n",
       "<!-- output&#45;&gt;upsample -->\n",
       "<g id=\"edge5\" class=\"edge\">\n",
       "<title>output&#45;&gt;upsample</title>\n",
       "<path fill=\"none\" stroke=\"black\" d=\"M623.84,-36.17C623.84,-43.87 623.84,-53.03 623.84,-61.58\"/>\n",
       "<polygon fill=\"black\" stroke=\"black\" points=\"620.34,-61.59 623.84,-71.59 627.34,-61.59 620.34,-61.59\"/>\n",
       "</g>\n",
       "<!-- scale&#45;1 -->\n",
       "<g id=\"node5\" class=\"node\">\n",
       "<title>scale&#45;1</title>\n",
       "<ellipse fill=\"none\" stroke=\"black\" cx=\"83.84\" cy=\"-18\" rx=\"83.69\" ry=\"18\"/>\n",
       "<text text-anchor=\"middle\" x=\"83.84\" y=\"-14.3\" font-family=\"Times,serif\" font-size=\"14.00\">scale=2, ch=16</text>\n",
       "</g>\n",
       "</g>\n",
       "</svg>\n"
      ],
      "text/plain": [
       "<graphviz.graphs.Digraph at 0x7f27e4b8ad60>"
      ]
     },
     "execution_count": 369,
     "metadata": {},
     "output_type": "execute_result"
    }
   ],
   "source": [
    "model_list[16].arch.view()"
   ]
  }
 ],
 "metadata": {
  "kernelspec": {
   "display_name": "Python 3 (ipykernel)",
   "language": "python",
   "name": "python3"
  },
  "language_info": {
   "codemirror_mode": {
    "name": "ipython",
    "version": 3
   },
   "file_extension": ".py",
   "mimetype": "text/x-python",
   "name": "python",
   "nbconvert_exporter": "python",
   "pygments_lexer": "ipython3",
   "version": "3.8.12"
  }
 },
 "nbformat": 4,
 "nbformat_minor": 5
}
